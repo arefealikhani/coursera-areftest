{
  "nbformat": 4,
  "nbformat_minor": 0,
  "metadata": {
    "colab": {
      "name": "Turtle.ipynb",
      "provenance": [],
      "authorship_tag": "ABX9TyNJLDDd7qh6/Jzja9KETE+p",
      "include_colab_link": true
    },
    "kernelspec": {
      "name": "python3",
      "display_name": "Python 3"
    },
    "language_info": {
      "name": "python"
    }
  },
  "cells": [
    {
      "cell_type": "markdown",
      "metadata": {
        "id": "view-in-github",
        "colab_type": "text"
      },
      "source": [
        "<a href=\"https://colab.research.google.com/github/arefealikhani/coursera-areftest/blob/gh-pages/TurtleCircle.ipynb\" target=\"_parent\"><img src=\"https://colab.research.google.com/assets/colab-badge.svg\" alt=\"Open In Colab\"/></a>"
      ]
    },
    {
      "cell_type": "code",
      "metadata": {
        "id": "CeRa7moQv7PK"
      },
      "source": [
        "!pip install ColabTurtle\n",
        "import ColabTurtle\n",
        "import ColabTurtle.Turtle as tim\n",
        "from random import  randint\n",
        "\n"
      ],
      "execution_count": null,
      "outputs": []
    },
    {
      "cell_type": "code",
      "metadata": {
        "id": "sbG2H6MI7Uo4"
      },
      "source": [
        "\n",
        "\n",
        "\n",
        "\n",
        "def drawshapes(num_sides):\n",
        "  tim.color(randint(0,255),randint(0,255),randint(0,255))\n",
        "  tim.bgcolor('black')\n",
        "  tim.pensize(2)\n",
        "  \n",
        "  for _ in range(num_sides):\n",
        "    angle=360/num_sides\n",
        "    tim.forward(100)\n",
        "    tim.right(angle)"
      ],
      "execution_count": 28,
      "outputs": []
    },
    {
      "cell_type": "code",
      "metadata": {
        "id": "YccxFfFy8YiC"
      },
      "source": [
        "penup()\n",
        "goto(300,20)\n",
        "pendown\n",
        "tim.right(90)\n",
        "initializeTurtle()\n",
        "drawshapes(3)\n",
        "drawshapes(4)\n",
        "drawshapes(5)\n",
        "drawshapes(6)\n",
        "drawshapes(7)\n",
        "drawshapes(9)\n",
        "drawshapes(10)\n",
        "drawshapes(11)\n",
        "drawshapes(12)\n",
        "drawshapes(13)\n",
        "drawshapes(14)\n"
      ],
      "execution_count": null,
      "outputs": []
    },
    {
      "cell_type": "code",
      "metadata": {
        "id": "5IF9FpNG8j-H"
      },
      "source": [
        ""
      ],
      "execution_count": null,
      "outputs": []
    },
    {
      "cell_type": "code",
      "metadata": {
        "id": "7gq4K-3k8kA1"
      },
      "source": [
        ""
      ],
      "execution_count": null,
      "outputs": []
    },
    {
      "cell_type": "code",
      "metadata": {
        "id": "dJFxke0p8kDe"
      },
      "source": [
        ""
      ],
      "execution_count": null,
      "outputs": []
    }
  ]
}